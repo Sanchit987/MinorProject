{
 "cells": [
  {
   "cell_type": "markdown",
   "metadata": {},
   "source": [
    "# Imports"
   ]
  },
  {
   "cell_type": "code",
   "execution_count": 6,
   "metadata": {},
   "outputs": [],
   "source": [
    "from os import walk\n",
    "import pandas as pd"
   ]
  },
  {
   "cell_type": "markdown",
   "metadata": {},
   "source": [
    "# Constants"
   ]
  },
  {
   "cell_type": "code",
   "execution_count": 7,
   "metadata": {},
   "outputs": [],
   "source": [
    "spam1 = 'SpamData/Processing/spam_assassin_corpus/spam_1'\n",
    "spam2 = 'SpamData/Processing/spam_assassin_corpus/spam_2'\n",
    "ham1 = 'SpamData/Processing/spam_assassin_corpus/easy_ham_1'\n",
    "ham2 = 'SpamData/Processing/spam_assassin_corpus/easy_ham_2'"
   ]
  },
  {
   "cell_type": "markdown",
   "metadata": {},
   "source": [
    "# Data Preprocessing"
   ]
  },
  {
   "cell_type": "code",
   "execution_count": 8,
   "metadata": {},
   "outputs": [],
   "source": [
    "def body_gen(path):\n",
    "    # This Generator function Helps to return a tuple containing filename,body of email\n",
    "    for root,dirname,filenames in walk(path):\n",
    "        for file in filenames:\n",
    "            req_path = '/'.join([root,file])\n",
    "            stream = open(req_path, encoding = 'latin-1')\n",
    "            body1 = []\n",
    "            ok = False\n",
    "            for line in stream:\n",
    "                if ok:\n",
    "                    body1.append(line)\n",
    "                elif(line == '\\n'):\n",
    "                    ok = True\n",
    "\n",
    "            stream.close()\n",
    "\n",
    "            body = '\\n'.join(body1)\n",
    "            yield file,body"
   ]
  },
  {
   "cell_type": "code",
   "execution_count": 9,
   "metadata": {},
   "outputs": [],
   "source": [
    "def df_gen(path,classified_as):\n",
    "    #This function is used to call the body_gen generator function and returns a data frame which contains mail_body and the classification of mail\n",
    "    rows = []\n",
    "    rownames=[]\n",
    "    for file,body in body_gen(path):\n",
    "        rows.append({\"Mail_body\": body,\"class\":classified_as})\n",
    "        rownames.append(file)\n",
    "    return pd.DataFrame(rows,index=rownames)"
   ]
  },
  {
   "cell_type": "code",
   "execution_count": 10,
   "metadata": {},
   "outputs": [
    {
     "data": {
      "text/html": [
       "<div>\n",
       "<style scoped>\n",
       "    .dataframe tbody tr th:only-of-type {\n",
       "        vertical-align: middle;\n",
       "    }\n",
       "\n",
       "    .dataframe tbody tr th {\n",
       "        vertical-align: top;\n",
       "    }\n",
       "\n",
       "    .dataframe thead th {\n",
       "        text-align: right;\n",
       "    }\n",
       "</style>\n",
       "<table border=\"1\" class=\"dataframe\">\n",
       "  <thead>\n",
       "    <tr style=\"text-align: right;\">\n",
       "      <th></th>\n",
       "      <th>Mail_body</th>\n",
       "      <th>class</th>\n",
       "    </tr>\n",
       "  </thead>\n",
       "  <tbody>\n",
       "    <tr>\n",
       "      <th>00171.08c5c55e9c2b4062344655e9ee32b979</th>\n",
       "      <td>Lowest rates available for term life insurance...</td>\n",
       "      <td>1</td>\n",
       "    </tr>\n",
       "    <tr>\n",
       "      <th>00041.f1b3402799046db3c1f143a911dc085d</th>\n",
       "      <td>Dear Sir or Madam:\\n\\n\\n\\nPlease reply to \\n\\n...</td>\n",
       "      <td>1</td>\n",
       "    </tr>\n",
       "    <tr>\n",
       "      <th>00211.d976c6049e8448e7c407c124b580e0ba</th>\n",
       "      <td>&lt;html&gt;\\n\\n\\n\\n&lt;head&gt;\\n\\n&lt;meta http-equiv=3D\"Co...</td>\n",
       "      <td>1</td>\n",
       "    </tr>\n",
       "    <tr>\n",
       "      <th>00459.e71f7a769d6b09c6d75bfbe8711dbbbe</th>\n",
       "      <td>Help wanted.  We are a 14 year old fortune 500...</td>\n",
       "      <td>1</td>\n",
       "    </tr>\n",
       "    <tr>\n",
       "      <th>00489.023c1d77de9365cad956a4c9118aee4b</th>\n",
       "      <td>UNCOMMON EXOTIC PLEASURE BOTANICALS!\\n\\n\\n\\nFe...</td>\n",
       "      <td>1</td>\n",
       "    </tr>\n",
       "  </tbody>\n",
       "</table>\n",
       "</div>"
      ],
      "text/plain": [
       "                                                                                Mail_body  \\\n",
       "00171.08c5c55e9c2b4062344655e9ee32b979  Lowest rates available for term life insurance...   \n",
       "00041.f1b3402799046db3c1f143a911dc085d  Dear Sir or Madam:\\n\\n\\n\\nPlease reply to \\n\\n...   \n",
       "00211.d976c6049e8448e7c407c124b580e0ba  <html>\\n\\n\\n\\n<head>\\n\\n<meta http-equiv=3D\"Co...   \n",
       "00459.e71f7a769d6b09c6d75bfbe8711dbbbe  Help wanted.  We are a 14 year old fortune 500...   \n",
       "00489.023c1d77de9365cad956a4c9118aee4b  UNCOMMON EXOTIC PLEASURE BOTANICALS!\\n\\n\\n\\nFe...   \n",
       "\n",
       "                                        class  \n",
       "00171.08c5c55e9c2b4062344655e9ee32b979      1  \n",
       "00041.f1b3402799046db3c1f143a911dc085d      1  \n",
       "00211.d976c6049e8448e7c407c124b580e0ba      1  \n",
       "00459.e71f7a769d6b09c6d75bfbe8711dbbbe      1  \n",
       "00489.023c1d77de9365cad956a4c9118aee4b      1  "
      ]
     },
     "execution_count": 10,
     "metadata": {},
     "output_type": "execute_result"
    }
   ],
   "source": [
    "spam_df = df_gen(spam1,1)\n",
    "spam_df = spam_df.append(df_gen(spam2,1))\n",
    "spam_df.head()"
   ]
  },
  {
   "cell_type": "code",
   "execution_count": 11,
   "metadata": {},
   "outputs": [
    {
     "data": {
      "text/html": [
       "<div>\n",
       "<style scoped>\n",
       "    .dataframe tbody tr th:only-of-type {\n",
       "        vertical-align: middle;\n",
       "    }\n",
       "\n",
       "    .dataframe tbody tr th {\n",
       "        vertical-align: top;\n",
       "    }\n",
       "\n",
       "    .dataframe thead th {\n",
       "        text-align: right;\n",
       "    }\n",
       "</style>\n",
       "<table border=\"1\" class=\"dataframe\">\n",
       "  <thead>\n",
       "    <tr style=\"text-align: right;\">\n",
       "      <th></th>\n",
       "      <th>Mail_body</th>\n",
       "      <th>class</th>\n",
       "    </tr>\n",
       "  </thead>\n",
       "  <tbody>\n",
       "    <tr>\n",
       "      <th>00771.2ce14d08f77127e0720658404cc4ce11</th>\n",
       "      <td>\\n\\nRead the article.  I'm afraid I don't unde...</td>\n",
       "      <td>0</td>\n",
       "    </tr>\n",
       "    <tr>\n",
       "      <th>01429.6d9cae984e2f92f32d70594f5cc37c87</th>\n",
       "      <td>http://www.hughes-family.org/bugzilla/show_bug...</td>\n",
       "      <td>0</td>\n",
       "    </tr>\n",
       "    <tr>\n",
       "      <th>02375.edeb9041e87f72ee99fa802021017fc2</th>\n",
       "      <td>URL: http://diveintomark.org/archives/2002/10/...</td>\n",
       "      <td>0</td>\n",
       "    </tr>\n",
       "    <tr>\n",
       "      <th>01782.278f53b8f65fcd422cb26c5bbe74599d</th>\n",
       "      <td>use Perl Daily Newsletter\\n\\n\\n\\nIn this issue...</td>\n",
       "      <td>0</td>\n",
       "    </tr>\n",
       "    <tr>\n",
       "      <th>01772.e17237d8112c2741c1b8819ed4cff474</th>\n",
       "      <td>use Perl Daily Headline Mailer\\n\\n\\n\\nPerl Por...</td>\n",
       "      <td>0</td>\n",
       "    </tr>\n",
       "  </tbody>\n",
       "</table>\n",
       "</div>"
      ],
      "text/plain": [
       "                                                                                Mail_body  \\\n",
       "00771.2ce14d08f77127e0720658404cc4ce11  \\n\\nRead the article.  I'm afraid I don't unde...   \n",
       "01429.6d9cae984e2f92f32d70594f5cc37c87  http://www.hughes-family.org/bugzilla/show_bug...   \n",
       "02375.edeb9041e87f72ee99fa802021017fc2  URL: http://diveintomark.org/archives/2002/10/...   \n",
       "01782.278f53b8f65fcd422cb26c5bbe74599d  use Perl Daily Newsletter\\n\\n\\n\\nIn this issue...   \n",
       "01772.e17237d8112c2741c1b8819ed4cff474  use Perl Daily Headline Mailer\\n\\n\\n\\nPerl Por...   \n",
       "\n",
       "                                        class  \n",
       "00771.2ce14d08f77127e0720658404cc4ce11      0  \n",
       "01429.6d9cae984e2f92f32d70594f5cc37c87      0  \n",
       "02375.edeb9041e87f72ee99fa802021017fc2      0  \n",
       "01782.278f53b8f65fcd422cb26c5bbe74599d      0  \n",
       "01772.e17237d8112c2741c1b8819ed4cff474      0  "
      ]
     },
     "execution_count": 11,
     "metadata": {},
     "output_type": "execute_result"
    }
   ],
   "source": [
    "ham_df = df_gen(ham1,0)\n",
    "ham_df = ham_df.append(df_gen(ham2,0))\n",
    "ham_df.head()"
   ]
  },
  {
   "cell_type": "code",
   "execution_count": 12,
   "metadata": {},
   "outputs": [
    {
     "data": {
      "text/plain": [
       "(5799, 2)"
      ]
     },
     "execution_count": 12,
     "metadata": {},
     "output_type": "execute_result"
    }
   ],
   "source": [
    "data = pd.concat([spam_df,ham_df])\n",
    "data.shape"
   ]
  },
  {
   "cell_type": "code",
   "execution_count": 13,
   "metadata": {},
   "outputs": [
    {
     "data": {
      "text/html": [
       "<div>\n",
       "<style scoped>\n",
       "    .dataframe tbody tr th:only-of-type {\n",
       "        vertical-align: middle;\n",
       "    }\n",
       "\n",
       "    .dataframe tbody tr th {\n",
       "        vertical-align: top;\n",
       "    }\n",
       "\n",
       "    .dataframe thead th {\n",
       "        text-align: right;\n",
       "    }\n",
       "</style>\n",
       "<table border=\"1\" class=\"dataframe\">\n",
       "  <thead>\n",
       "    <tr style=\"text-align: right;\">\n",
       "      <th></th>\n",
       "      <th>Mail_body</th>\n",
       "      <th>class</th>\n",
       "    </tr>\n",
       "  </thead>\n",
       "  <tbody>\n",
       "    <tr>\n",
       "      <th>00171.08c5c55e9c2b4062344655e9ee32b979</th>\n",
       "      <td>Lowest rates available for term life insurance...</td>\n",
       "      <td>1</td>\n",
       "    </tr>\n",
       "    <tr>\n",
       "      <th>00041.f1b3402799046db3c1f143a911dc085d</th>\n",
       "      <td>Dear Sir or Madam:\\n\\n\\n\\nPlease reply to \\n\\n...</td>\n",
       "      <td>1</td>\n",
       "    </tr>\n",
       "    <tr>\n",
       "      <th>00211.d976c6049e8448e7c407c124b580e0ba</th>\n",
       "      <td>&lt;html&gt;\\n\\n\\n\\n&lt;head&gt;\\n\\n&lt;meta http-equiv=3D\"Co...</td>\n",
       "      <td>1</td>\n",
       "    </tr>\n",
       "    <tr>\n",
       "      <th>00459.e71f7a769d6b09c6d75bfbe8711dbbbe</th>\n",
       "      <td>Help wanted.  We are a 14 year old fortune 500...</td>\n",
       "      <td>1</td>\n",
       "    </tr>\n",
       "    <tr>\n",
       "      <th>00489.023c1d77de9365cad956a4c9118aee4b</th>\n",
       "      <td>UNCOMMON EXOTIC PLEASURE BOTANICALS!\\n\\n\\n\\nFe...</td>\n",
       "      <td>1</td>\n",
       "    </tr>\n",
       "  </tbody>\n",
       "</table>\n",
       "</div>"
      ],
      "text/plain": [
       "                                                                                Mail_body  \\\n",
       "00171.08c5c55e9c2b4062344655e9ee32b979  Lowest rates available for term life insurance...   \n",
       "00041.f1b3402799046db3c1f143a911dc085d  Dear Sir or Madam:\\n\\n\\n\\nPlease reply to \\n\\n...   \n",
       "00211.d976c6049e8448e7c407c124b580e0ba  <html>\\n\\n\\n\\n<head>\\n\\n<meta http-equiv=3D\"Co...   \n",
       "00459.e71f7a769d6b09c6d75bfbe8711dbbbe  Help wanted.  We are a 14 year old fortune 500...   \n",
       "00489.023c1d77de9365cad956a4c9118aee4b  UNCOMMON EXOTIC PLEASURE BOTANICALS!\\n\\n\\n\\nFe...   \n",
       "\n",
       "                                        class  \n",
       "00171.08c5c55e9c2b4062344655e9ee32b979      1  \n",
       "00041.f1b3402799046db3c1f143a911dc085d      1  \n",
       "00211.d976c6049e8448e7c407c124b580e0ba      1  \n",
       "00459.e71f7a769d6b09c6d75bfbe8711dbbbe      1  \n",
       "00489.023c1d77de9365cad956a4c9118aee4b      1  "
      ]
     },
     "execution_count": 13,
     "metadata": {},
     "output_type": "execute_result"
    }
   ],
   "source": [
    "data.head()"
   ]
  },
  {
   "cell_type": "code",
   "execution_count": 14,
   "metadata": {},
   "outputs": [
    {
     "data": {
      "text/html": [
       "<div>\n",
       "<style scoped>\n",
       "    .dataframe tbody tr th:only-of-type {\n",
       "        vertical-align: middle;\n",
       "    }\n",
       "\n",
       "    .dataframe tbody tr th {\n",
       "        vertical-align: top;\n",
       "    }\n",
       "\n",
       "    .dataframe thead th {\n",
       "        text-align: right;\n",
       "    }\n",
       "</style>\n",
       "<table border=\"1\" class=\"dataframe\">\n",
       "  <thead>\n",
       "    <tr style=\"text-align: right;\">\n",
       "      <th></th>\n",
       "      <th>Mail_body</th>\n",
       "      <th>class</th>\n",
       "    </tr>\n",
       "  </thead>\n",
       "  <tbody>\n",
       "    <tr>\n",
       "      <th>00939.d6d2250a7e855513820bd35e36883d5a</th>\n",
       "      <td>Okay, I'll ammend that to LIVE OLD tree saving...</td>\n",
       "      <td>0</td>\n",
       "    </tr>\n",
       "    <tr>\n",
       "      <th>00570.a8f739b7a0c060d178c0f6c01152b6aa</th>\n",
       "      <td>This is a semi-followup on my previous questio...</td>\n",
       "      <td>0</td>\n",
       "    </tr>\n",
       "    <tr>\n",
       "      <th>00549.703d3fc9f56814c467616f8aac31d22d</th>\n",
       "      <td>Not sure what you're asking.  \\n\\n  Content-...</td>\n",
       "      <td>0</td>\n",
       "    </tr>\n",
       "    <tr>\n",
       "      <th>00179.d15992f3e182d401cc37a1b79c251d03</th>\n",
       "      <td>OK, I guess that sysctl.conf is the best way ...</td>\n",
       "      <td>0</td>\n",
       "    </tr>\n",
       "    <tr>\n",
       "      <th>00647.97e77e8264c32c8b05077edc15721ba2</th>\n",
       "      <td>\\n\\n\\n\\nformail did the trick. Thanks to those...</td>\n",
       "      <td>0</td>\n",
       "    </tr>\n",
       "  </tbody>\n",
       "</table>\n",
       "</div>"
      ],
      "text/plain": [
       "                                                                                Mail_body  \\\n",
       "00939.d6d2250a7e855513820bd35e36883d5a  Okay, I'll ammend that to LIVE OLD tree saving...   \n",
       "00570.a8f739b7a0c060d178c0f6c01152b6aa  This is a semi-followup on my previous questio...   \n",
       "00549.703d3fc9f56814c467616f8aac31d22d    Not sure what you're asking.  \\n\\n  Content-...   \n",
       "00179.d15992f3e182d401cc37a1b79c251d03   OK, I guess that sysctl.conf is the best way ...   \n",
       "00647.97e77e8264c32c8b05077edc15721ba2  \\n\\n\\n\\nformail did the trick. Thanks to those...   \n",
       "\n",
       "                                        class  \n",
       "00939.d6d2250a7e855513820bd35e36883d5a      0  \n",
       "00570.a8f739b7a0c060d178c0f6c01152b6aa      0  \n",
       "00549.703d3fc9f56814c467616f8aac31d22d      0  \n",
       "00179.d15992f3e182d401cc37a1b79c251d03      0  \n",
       "00647.97e77e8264c32c8b05077edc15721ba2      0  "
      ]
     },
     "execution_count": 14,
     "metadata": {},
     "output_type": "execute_result"
    }
   ],
   "source": [
    "data.tail()"
   ]
  },
  {
   "cell_type": "code",
   "execution_count": null,
   "metadata": {},
   "outputs": [],
   "source": []
  }
 ],
 "metadata": {
  "kernelspec": {
   "display_name": "Python 3",
   "language": "python",
   "name": "python3"
  },
  "language_info": {
   "codemirror_mode": {
    "name": "ipython",
    "version": 3
   },
   "file_extension": ".py",
   "mimetype": "text/x-python",
   "name": "python",
   "nbconvert_exporter": "python",
   "pygments_lexer": "ipython3",
   "version": "3.8.3"
  }
 },
 "nbformat": 4,
 "nbformat_minor": 4
}
