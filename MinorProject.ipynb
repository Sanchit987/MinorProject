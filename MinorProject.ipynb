{
 "cells": [
  {
   "cell_type": "markdown",
   "metadata": {},
   "source": [
    "# Imports"
   ]
  },
  {
   "cell_type": "code",
   "execution_count": 39,
   "metadata": {},
   "outputs": [],
   "source": [
    "from os import walk\n",
    "import pandas as pd\n",
    "import matplotlib.pyplot as plt\n",
    "\n",
    "import nltk\n",
    "from nltk.stem import PorterStemmer\n",
    "from nltk.corpus import stopwords\n",
    "from nltk.tokenize import word_tokenize\n",
    "\n",
    "from bs4 import BeautifulSoup\n",
    "\n",
    "%matplotlib inline"
   ]
  },
  {
   "cell_type": "markdown",
   "metadata": {},
   "source": [
    "# Constants"
   ]
  },
  {
   "cell_type": "code",
   "execution_count": 2,
   "metadata": {},
   "outputs": [],
   "source": [
    "spam1 = 'SpamData/Processing/spam_assassin_corpus/spam_1'\n",
    "spam2 = 'SpamData/Processing/spam_assassin_corpus/spam_2'\n",
    "ham1 = 'SpamData/Processing/spam_assassin_corpus/easy_ham_1'\n",
    "ham2 = 'SpamData/Processing/spam_assassin_corpus/easy_ham_2'\n",
    "\n",
    "processed_data = 'SpamData/Processing/email_data.json'"
   ]
  },
  {
   "cell_type": "markdown",
   "metadata": {},
   "source": [
    "# Data Preprocessing"
   ]
  },
  {
   "cell_type": "code",
   "execution_count": 51,
   "metadata": {},
   "outputs": [],
   "source": [
    "def body_gen(path):\n",
    "    \"\"\"\n",
    "    This Generator function Helps to return a tuple containing filename,body of email\n",
    "    \"\"\"\n",
    "    for root,dirname,filenames in walk(path):\n",
    "        for file in filenames:\n",
    "            req_path = '/'.join([root,file])\n",
    "            stream = open(req_path, encoding = 'latin-1')\n",
    "            body1 = []\n",
    "            ok = False\n",
    "            for line in stream:\n",
    "                if ok:\n",
    "                    body1.append(line)\n",
    "                elif(line == '\\n'):\n",
    "                    ok = True\n",
    "\n",
    "            stream.close()\n",
    "\n",
    "            body = '\\n'.join(body1)\n",
    "            yield file,body"
   ]
  },
  {
   "cell_type": "code",
   "execution_count": 52,
   "metadata": {},
   "outputs": [],
   "source": [
    "def df_gen(path,classified_as):\n",
    "    \"\"\"\n",
    "    This function is used to call the body_gen generator function and returns a data frame which contains\n",
    "    mail_body and the classification of mail\n",
    "    \"\"\"\n",
    "    rows = []\n",
    "    rownames=[]\n",
    "    for file,body in body_gen(path):\n",
    "        rows.append({\"Mail_body\": body,\"class\":classified_as})\n",
    "        rownames.append(file)\n",
    "    return pd.DataFrame(rows,index=rownames)"
   ]
  },
  {
   "cell_type": "code",
   "execution_count": 5,
   "metadata": {},
   "outputs": [
    {
     "data": {
      "text/html": [
       "<div>\n",
       "<style scoped>\n",
       "    .dataframe tbody tr th:only-of-type {\n",
       "        vertical-align: middle;\n",
       "    }\n",
       "\n",
       "    .dataframe tbody tr th {\n",
       "        vertical-align: top;\n",
       "    }\n",
       "\n",
       "    .dataframe thead th {\n",
       "        text-align: right;\n",
       "    }\n",
       "</style>\n",
       "<table border=\"1\" class=\"dataframe\">\n",
       "  <thead>\n",
       "    <tr style=\"text-align: right;\">\n",
       "      <th></th>\n",
       "      <th>Mail_body</th>\n",
       "      <th>class</th>\n",
       "    </tr>\n",
       "  </thead>\n",
       "  <tbody>\n",
       "    <tr>\n",
       "      <th>00171.08c5c55e9c2b4062344655e9ee32b979</th>\n",
       "      <td>Lowest rates available for term life insurance...</td>\n",
       "      <td>1</td>\n",
       "    </tr>\n",
       "    <tr>\n",
       "      <th>00041.f1b3402799046db3c1f143a911dc085d</th>\n",
       "      <td>Dear Sir or Madam:\\n\\n\\n\\nPlease reply to \\n\\n...</td>\n",
       "      <td>1</td>\n",
       "    </tr>\n",
       "    <tr>\n",
       "      <th>00211.d976c6049e8448e7c407c124b580e0ba</th>\n",
       "      <td>&lt;html&gt;\\n\\n\\n\\n&lt;head&gt;\\n\\n&lt;meta http-equiv=3D\"Co...</td>\n",
       "      <td>1</td>\n",
       "    </tr>\n",
       "    <tr>\n",
       "      <th>00459.e71f7a769d6b09c6d75bfbe8711dbbbe</th>\n",
       "      <td>Help wanted.  We are a 14 year old fortune 500...</td>\n",
       "      <td>1</td>\n",
       "    </tr>\n",
       "    <tr>\n",
       "      <th>00489.023c1d77de9365cad956a4c9118aee4b</th>\n",
       "      <td>UNCOMMON EXOTIC PLEASURE BOTANICALS!\\n\\n\\n\\nFe...</td>\n",
       "      <td>1</td>\n",
       "    </tr>\n",
       "  </tbody>\n",
       "</table>\n",
       "</div>"
      ],
      "text/plain": [
       "                                                                                Mail_body  \\\n",
       "00171.08c5c55e9c2b4062344655e9ee32b979  Lowest rates available for term life insurance...   \n",
       "00041.f1b3402799046db3c1f143a911dc085d  Dear Sir or Madam:\\n\\n\\n\\nPlease reply to \\n\\n...   \n",
       "00211.d976c6049e8448e7c407c124b580e0ba  <html>\\n\\n\\n\\n<head>\\n\\n<meta http-equiv=3D\"Co...   \n",
       "00459.e71f7a769d6b09c6d75bfbe8711dbbbe  Help wanted.  We are a 14 year old fortune 500...   \n",
       "00489.023c1d77de9365cad956a4c9118aee4b  UNCOMMON EXOTIC PLEASURE BOTANICALS!\\n\\n\\n\\nFe...   \n",
       "\n",
       "                                        class  \n",
       "00171.08c5c55e9c2b4062344655e9ee32b979      1  \n",
       "00041.f1b3402799046db3c1f143a911dc085d      1  \n",
       "00211.d976c6049e8448e7c407c124b580e0ba      1  \n",
       "00459.e71f7a769d6b09c6d75bfbe8711dbbbe      1  \n",
       "00489.023c1d77de9365cad956a4c9118aee4b      1  "
      ]
     },
     "execution_count": 5,
     "metadata": {},
     "output_type": "execute_result"
    }
   ],
   "source": [
    "spam_df = df_gen(spam1,1)\n",
    "spam_df = spam_df.append(df_gen(spam2,1))\n",
    "spam_df.head()"
   ]
  },
  {
   "cell_type": "code",
   "execution_count": 6,
   "metadata": {},
   "outputs": [
    {
     "data": {
      "text/html": [
       "<div>\n",
       "<style scoped>\n",
       "    .dataframe tbody tr th:only-of-type {\n",
       "        vertical-align: middle;\n",
       "    }\n",
       "\n",
       "    .dataframe tbody tr th {\n",
       "        vertical-align: top;\n",
       "    }\n",
       "\n",
       "    .dataframe thead th {\n",
       "        text-align: right;\n",
       "    }\n",
       "</style>\n",
       "<table border=\"1\" class=\"dataframe\">\n",
       "  <thead>\n",
       "    <tr style=\"text-align: right;\">\n",
       "      <th></th>\n",
       "      <th>Mail_body</th>\n",
       "      <th>class</th>\n",
       "    </tr>\n",
       "  </thead>\n",
       "  <tbody>\n",
       "    <tr>\n",
       "      <th>00771.2ce14d08f77127e0720658404cc4ce11</th>\n",
       "      <td>\\n\\nRead the article.  I'm afraid I don't unde...</td>\n",
       "      <td>0</td>\n",
       "    </tr>\n",
       "    <tr>\n",
       "      <th>01429.6d9cae984e2f92f32d70594f5cc37c87</th>\n",
       "      <td>http://www.hughes-family.org/bugzilla/show_bug...</td>\n",
       "      <td>0</td>\n",
       "    </tr>\n",
       "    <tr>\n",
       "      <th>02375.edeb9041e87f72ee99fa802021017fc2</th>\n",
       "      <td>URL: http://diveintomark.org/archives/2002/10/...</td>\n",
       "      <td>0</td>\n",
       "    </tr>\n",
       "    <tr>\n",
       "      <th>01782.278f53b8f65fcd422cb26c5bbe74599d</th>\n",
       "      <td>use Perl Daily Newsletter\\n\\n\\n\\nIn this issue...</td>\n",
       "      <td>0</td>\n",
       "    </tr>\n",
       "    <tr>\n",
       "      <th>01772.e17237d8112c2741c1b8819ed4cff474</th>\n",
       "      <td>use Perl Daily Headline Mailer\\n\\n\\n\\nPerl Por...</td>\n",
       "      <td>0</td>\n",
       "    </tr>\n",
       "  </tbody>\n",
       "</table>\n",
       "</div>"
      ],
      "text/plain": [
       "                                                                                Mail_body  \\\n",
       "00771.2ce14d08f77127e0720658404cc4ce11  \\n\\nRead the article.  I'm afraid I don't unde...   \n",
       "01429.6d9cae984e2f92f32d70594f5cc37c87  http://www.hughes-family.org/bugzilla/show_bug...   \n",
       "02375.edeb9041e87f72ee99fa802021017fc2  URL: http://diveintomark.org/archives/2002/10/...   \n",
       "01782.278f53b8f65fcd422cb26c5bbe74599d  use Perl Daily Newsletter\\n\\n\\n\\nIn this issue...   \n",
       "01772.e17237d8112c2741c1b8819ed4cff474  use Perl Daily Headline Mailer\\n\\n\\n\\nPerl Por...   \n",
       "\n",
       "                                        class  \n",
       "00771.2ce14d08f77127e0720658404cc4ce11      0  \n",
       "01429.6d9cae984e2f92f32d70594f5cc37c87      0  \n",
       "02375.edeb9041e87f72ee99fa802021017fc2      0  \n",
       "01782.278f53b8f65fcd422cb26c5bbe74599d      0  \n",
       "01772.e17237d8112c2741c1b8819ed4cff474      0  "
      ]
     },
     "execution_count": 6,
     "metadata": {},
     "output_type": "execute_result"
    }
   ],
   "source": [
    "ham_df = df_gen(ham1,0)\n",
    "ham_df = ham_df.append(df_gen(ham2,0))\n",
    "ham_df.head()"
   ]
  },
  {
   "cell_type": "code",
   "execution_count": 7,
   "metadata": {},
   "outputs": [
    {
     "data": {
      "text/plain": [
       "(5799, 2)"
      ]
     },
     "execution_count": 7,
     "metadata": {},
     "output_type": "execute_result"
    }
   ],
   "source": [
    "data = pd.concat([spam_df,ham_df])\n",
    "data.shape"
   ]
  },
  {
   "cell_type": "code",
   "execution_count": 8,
   "metadata": {},
   "outputs": [
    {
     "data": {
      "text/html": [
       "<div>\n",
       "<style scoped>\n",
       "    .dataframe tbody tr th:only-of-type {\n",
       "        vertical-align: middle;\n",
       "    }\n",
       "\n",
       "    .dataframe tbody tr th {\n",
       "        vertical-align: top;\n",
       "    }\n",
       "\n",
       "    .dataframe thead th {\n",
       "        text-align: right;\n",
       "    }\n",
       "</style>\n",
       "<table border=\"1\" class=\"dataframe\">\n",
       "  <thead>\n",
       "    <tr style=\"text-align: right;\">\n",
       "      <th></th>\n",
       "      <th>Mail_body</th>\n",
       "      <th>class</th>\n",
       "    </tr>\n",
       "  </thead>\n",
       "  <tbody>\n",
       "    <tr>\n",
       "      <th>00171.08c5c55e9c2b4062344655e9ee32b979</th>\n",
       "      <td>Lowest rates available for term life insurance...</td>\n",
       "      <td>1</td>\n",
       "    </tr>\n",
       "    <tr>\n",
       "      <th>00041.f1b3402799046db3c1f143a911dc085d</th>\n",
       "      <td>Dear Sir or Madam:\\n\\n\\n\\nPlease reply to \\n\\n...</td>\n",
       "      <td>1</td>\n",
       "    </tr>\n",
       "    <tr>\n",
       "      <th>00211.d976c6049e8448e7c407c124b580e0ba</th>\n",
       "      <td>&lt;html&gt;\\n\\n\\n\\n&lt;head&gt;\\n\\n&lt;meta http-equiv=3D\"Co...</td>\n",
       "      <td>1</td>\n",
       "    </tr>\n",
       "    <tr>\n",
       "      <th>00459.e71f7a769d6b09c6d75bfbe8711dbbbe</th>\n",
       "      <td>Help wanted.  We are a 14 year old fortune 500...</td>\n",
       "      <td>1</td>\n",
       "    </tr>\n",
       "    <tr>\n",
       "      <th>00489.023c1d77de9365cad956a4c9118aee4b</th>\n",
       "      <td>UNCOMMON EXOTIC PLEASURE BOTANICALS!\\n\\n\\n\\nFe...</td>\n",
       "      <td>1</td>\n",
       "    </tr>\n",
       "  </tbody>\n",
       "</table>\n",
       "</div>"
      ],
      "text/plain": [
       "                                                                                Mail_body  \\\n",
       "00171.08c5c55e9c2b4062344655e9ee32b979  Lowest rates available for term life insurance...   \n",
       "00041.f1b3402799046db3c1f143a911dc085d  Dear Sir or Madam:\\n\\n\\n\\nPlease reply to \\n\\n...   \n",
       "00211.d976c6049e8448e7c407c124b580e0ba  <html>\\n\\n\\n\\n<head>\\n\\n<meta http-equiv=3D\"Co...   \n",
       "00459.e71f7a769d6b09c6d75bfbe8711dbbbe  Help wanted.  We are a 14 year old fortune 500...   \n",
       "00489.023c1d77de9365cad956a4c9118aee4b  UNCOMMON EXOTIC PLEASURE BOTANICALS!\\n\\n\\n\\nFe...   \n",
       "\n",
       "                                        class  \n",
       "00171.08c5c55e9c2b4062344655e9ee32b979      1  \n",
       "00041.f1b3402799046db3c1f143a911dc085d      1  \n",
       "00211.d976c6049e8448e7c407c124b580e0ba      1  \n",
       "00459.e71f7a769d6b09c6d75bfbe8711dbbbe      1  \n",
       "00489.023c1d77de9365cad956a4c9118aee4b      1  "
      ]
     },
     "execution_count": 8,
     "metadata": {},
     "output_type": "execute_result"
    }
   ],
   "source": [
    "data.head()"
   ]
  },
  {
   "cell_type": "code",
   "execution_count": 9,
   "metadata": {},
   "outputs": [
    {
     "data": {
      "text/html": [
       "<div>\n",
       "<style scoped>\n",
       "    .dataframe tbody tr th:only-of-type {\n",
       "        vertical-align: middle;\n",
       "    }\n",
       "\n",
       "    .dataframe tbody tr th {\n",
       "        vertical-align: top;\n",
       "    }\n",
       "\n",
       "    .dataframe thead th {\n",
       "        text-align: right;\n",
       "    }\n",
       "</style>\n",
       "<table border=\"1\" class=\"dataframe\">\n",
       "  <thead>\n",
       "    <tr style=\"text-align: right;\">\n",
       "      <th></th>\n",
       "      <th>Mail_body</th>\n",
       "      <th>class</th>\n",
       "    </tr>\n",
       "  </thead>\n",
       "  <tbody>\n",
       "    <tr>\n",
       "      <th>00939.d6d2250a7e855513820bd35e36883d5a</th>\n",
       "      <td>Okay, I'll ammend that to LIVE OLD tree saving...</td>\n",
       "      <td>0</td>\n",
       "    </tr>\n",
       "    <tr>\n",
       "      <th>00570.a8f739b7a0c060d178c0f6c01152b6aa</th>\n",
       "      <td>This is a semi-followup on my previous questio...</td>\n",
       "      <td>0</td>\n",
       "    </tr>\n",
       "    <tr>\n",
       "      <th>00549.703d3fc9f56814c467616f8aac31d22d</th>\n",
       "      <td>Not sure what you're asking.  \\n\\n  Content-...</td>\n",
       "      <td>0</td>\n",
       "    </tr>\n",
       "    <tr>\n",
       "      <th>00179.d15992f3e182d401cc37a1b79c251d03</th>\n",
       "      <td>OK, I guess that sysctl.conf is the best way ...</td>\n",
       "      <td>0</td>\n",
       "    </tr>\n",
       "    <tr>\n",
       "      <th>00647.97e77e8264c32c8b05077edc15721ba2</th>\n",
       "      <td>\\n\\n\\n\\nformail did the trick. Thanks to those...</td>\n",
       "      <td>0</td>\n",
       "    </tr>\n",
       "  </tbody>\n",
       "</table>\n",
       "</div>"
      ],
      "text/plain": [
       "                                                                                Mail_body  \\\n",
       "00939.d6d2250a7e855513820bd35e36883d5a  Okay, I'll ammend that to LIVE OLD tree saving...   \n",
       "00570.a8f739b7a0c060d178c0f6c01152b6aa  This is a semi-followup on my previous questio...   \n",
       "00549.703d3fc9f56814c467616f8aac31d22d    Not sure what you're asking.  \\n\\n  Content-...   \n",
       "00179.d15992f3e182d401cc37a1b79c251d03   OK, I guess that sysctl.conf is the best way ...   \n",
       "00647.97e77e8264c32c8b05077edc15721ba2  \\n\\n\\n\\nformail did the trick. Thanks to those...   \n",
       "\n",
       "                                        class  \n",
       "00939.d6d2250a7e855513820bd35e36883d5a      0  \n",
       "00570.a8f739b7a0c060d178c0f6c01152b6aa      0  \n",
       "00549.703d3fc9f56814c467616f8aac31d22d      0  \n",
       "00179.d15992f3e182d401cc37a1b79c251d03      0  \n",
       "00647.97e77e8264c32c8b05077edc15721ba2      0  "
      ]
     },
     "execution_count": 9,
     "metadata": {},
     "output_type": "execute_result"
    }
   ],
   "source": [
    "data.tail()"
   ]
  },
  {
   "cell_type": "markdown",
   "metadata": {},
   "source": [
    "# Cleaning My Data"
   ]
  },
  {
   "cell_type": "code",
   "execution_count": 10,
   "metadata": {},
   "outputs": [
    {
     "data": {
      "text/plain": [
       "False"
      ]
     },
     "execution_count": 10,
     "metadata": {},
     "output_type": "execute_result"
    }
   ],
   "source": [
    "#checking for the null values present in email body\n",
    "data[\"Mail_body\"].isnull().values.any()"
   ]
  },
  {
   "cell_type": "code",
   "execution_count": 11,
   "metadata": {},
   "outputs": [
    {
     "data": {
      "text/plain": [
       "True"
      ]
     },
     "execution_count": 11,
     "metadata": {},
     "output_type": "execute_result"
    }
   ],
   "source": [
    "#Checking for Empty strings\n",
    "(data[\"Mail_body\"].str.len() == 0).any()"
   ]
  },
  {
   "cell_type": "code",
   "execution_count": 12,
   "metadata": {},
   "outputs": [
    {
     "data": {
      "text/plain": [
       "3"
      ]
     },
     "execution_count": 12,
     "metadata": {},
     "output_type": "execute_result"
    }
   ],
   "source": [
    "#This block tells us the nummber of values wich contain empty string as a string body\n",
    "(data[\"Mail_body\"].str.len() == 0).sum()"
   ]
  },
  {
   "cell_type": "code",
   "execution_count": 13,
   "metadata": {},
   "outputs": [
    {
     "data": {
      "text/html": [
       "<div>\n",
       "<style scoped>\n",
       "    .dataframe tbody tr th:only-of-type {\n",
       "        vertical-align: middle;\n",
       "    }\n",
       "\n",
       "    .dataframe tbody tr th {\n",
       "        vertical-align: top;\n",
       "    }\n",
       "\n",
       "    .dataframe thead th {\n",
       "        text-align: right;\n",
       "    }\n",
       "</style>\n",
       "<table border=\"1\" class=\"dataframe\">\n",
       "  <thead>\n",
       "    <tr style=\"text-align: right;\">\n",
       "      <th></th>\n",
       "      <th>Mail_body</th>\n",
       "      <th>class</th>\n",
       "    </tr>\n",
       "  </thead>\n",
       "  <tbody>\n",
       "    <tr>\n",
       "      <th>cmds</th>\n",
       "      <td></td>\n",
       "      <td>1</td>\n",
       "    </tr>\n",
       "    <tr>\n",
       "      <th>cmds</th>\n",
       "      <td></td>\n",
       "      <td>1</td>\n",
       "    </tr>\n",
       "    <tr>\n",
       "      <th>cmds</th>\n",
       "      <td></td>\n",
       "      <td>0</td>\n",
       "    </tr>\n",
       "  </tbody>\n",
       "</table>\n",
       "</div>"
      ],
      "text/plain": [
       "     Mail_body  class\n",
       "cmds                1\n",
       "cmds                1\n",
       "cmds                0"
      ]
     },
     "execution_count": 13,
     "metadata": {},
     "output_type": "execute_result"
    }
   ],
   "source": [
    "# There are three system files which does not contain any body hence we must delete them\n",
    "data[data[\"Mail_body\"].str.len() == 0]"
   ]
  },
  {
   "cell_type": "code",
   "execution_count": 14,
   "metadata": {},
   "outputs": [
    {
     "data": {
      "text/plain": [
       "0"
      ]
     },
     "execution_count": 14,
     "metadata": {},
     "output_type": "execute_result"
    }
   ],
   "source": [
    "# deleting unwanted entries from the dataframe\n",
    "data = data.drop(['cmds'])\n",
    "(data[\"Mail_body\"].str.len() == 0).sum()"
   ]
  },
  {
   "cell_type": "code",
   "execution_count": 15,
   "metadata": {},
   "outputs": [
    {
     "data": {
      "text/plain": [
       "(5796, 2)"
      ]
     },
     "execution_count": 15,
     "metadata": {},
     "output_type": "execute_result"
    }
   ],
   "source": [
    "data.shape"
   ]
  },
  {
   "cell_type": "code",
   "execution_count": 16,
   "metadata": {},
   "outputs": [
    {
     "data": {
      "text/html": [
       "<div>\n",
       "<style scoped>\n",
       "    .dataframe tbody tr th:only-of-type {\n",
       "        vertical-align: middle;\n",
       "    }\n",
       "\n",
       "    .dataframe tbody tr th {\n",
       "        vertical-align: top;\n",
       "    }\n",
       "\n",
       "    .dataframe thead th {\n",
       "        text-align: right;\n",
       "    }\n",
       "</style>\n",
       "<table border=\"1\" class=\"dataframe\">\n",
       "  <thead>\n",
       "    <tr style=\"text-align: right;\">\n",
       "      <th></th>\n",
       "      <th>Mail_body</th>\n",
       "      <th>class</th>\n",
       "      <th>id</th>\n",
       "    </tr>\n",
       "  </thead>\n",
       "  <tbody>\n",
       "    <tr>\n",
       "      <th>00171.08c5c55e9c2b4062344655e9ee32b979</th>\n",
       "      <td>Lowest rates available for term life insurance...</td>\n",
       "      <td>1</td>\n",
       "      <td>0</td>\n",
       "    </tr>\n",
       "    <tr>\n",
       "      <th>00041.f1b3402799046db3c1f143a911dc085d</th>\n",
       "      <td>Dear Sir or Madam:\\n\\n\\n\\nPlease reply to \\n\\n...</td>\n",
       "      <td>1</td>\n",
       "      <td>1</td>\n",
       "    </tr>\n",
       "    <tr>\n",
       "      <th>00211.d976c6049e8448e7c407c124b580e0ba</th>\n",
       "      <td>&lt;html&gt;\\n\\n\\n\\n&lt;head&gt;\\n\\n&lt;meta http-equiv=3D\"Co...</td>\n",
       "      <td>1</td>\n",
       "      <td>2</td>\n",
       "    </tr>\n",
       "    <tr>\n",
       "      <th>00459.e71f7a769d6b09c6d75bfbe8711dbbbe</th>\n",
       "      <td>Help wanted.  We are a 14 year old fortune 500...</td>\n",
       "      <td>1</td>\n",
       "      <td>3</td>\n",
       "    </tr>\n",
       "    <tr>\n",
       "      <th>00489.023c1d77de9365cad956a4c9118aee4b</th>\n",
       "      <td>UNCOMMON EXOTIC PLEASURE BOTANICALS!\\n\\n\\n\\nFe...</td>\n",
       "      <td>1</td>\n",
       "      <td>4</td>\n",
       "    </tr>\n",
       "    <tr>\n",
       "      <th>...</th>\n",
       "      <td>...</td>\n",
       "      <td>...</td>\n",
       "      <td>...</td>\n",
       "    </tr>\n",
       "    <tr>\n",
       "      <th>00939.d6d2250a7e855513820bd35e36883d5a</th>\n",
       "      <td>Okay, I'll ammend that to LIVE OLD tree saving...</td>\n",
       "      <td>0</td>\n",
       "      <td>5791</td>\n",
       "    </tr>\n",
       "    <tr>\n",
       "      <th>00570.a8f739b7a0c060d178c0f6c01152b6aa</th>\n",
       "      <td>This is a semi-followup on my previous questio...</td>\n",
       "      <td>0</td>\n",
       "      <td>5792</td>\n",
       "    </tr>\n",
       "    <tr>\n",
       "      <th>00549.703d3fc9f56814c467616f8aac31d22d</th>\n",
       "      <td>Not sure what you're asking.  \\n\\n  Content-...</td>\n",
       "      <td>0</td>\n",
       "      <td>5793</td>\n",
       "    </tr>\n",
       "    <tr>\n",
       "      <th>00179.d15992f3e182d401cc37a1b79c251d03</th>\n",
       "      <td>OK, I guess that sysctl.conf is the best way ...</td>\n",
       "      <td>0</td>\n",
       "      <td>5794</td>\n",
       "    </tr>\n",
       "    <tr>\n",
       "      <th>00647.97e77e8264c32c8b05077edc15721ba2</th>\n",
       "      <td>\\n\\n\\n\\nformail did the trick. Thanks to those...</td>\n",
       "      <td>0</td>\n",
       "      <td>5795</td>\n",
       "    </tr>\n",
       "  </tbody>\n",
       "</table>\n",
       "<p>5796 rows × 3 columns</p>\n",
       "</div>"
      ],
      "text/plain": [
       "                                                                                Mail_body  \\\n",
       "00171.08c5c55e9c2b4062344655e9ee32b979  Lowest rates available for term life insurance...   \n",
       "00041.f1b3402799046db3c1f143a911dc085d  Dear Sir or Madam:\\n\\n\\n\\nPlease reply to \\n\\n...   \n",
       "00211.d976c6049e8448e7c407c124b580e0ba  <html>\\n\\n\\n\\n<head>\\n\\n<meta http-equiv=3D\"Co...   \n",
       "00459.e71f7a769d6b09c6d75bfbe8711dbbbe  Help wanted.  We are a 14 year old fortune 500...   \n",
       "00489.023c1d77de9365cad956a4c9118aee4b  UNCOMMON EXOTIC PLEASURE BOTANICALS!\\n\\n\\n\\nFe...   \n",
       "...                                                                                   ...   \n",
       "00939.d6d2250a7e855513820bd35e36883d5a  Okay, I'll ammend that to LIVE OLD tree saving...   \n",
       "00570.a8f739b7a0c060d178c0f6c01152b6aa  This is a semi-followup on my previous questio...   \n",
       "00549.703d3fc9f56814c467616f8aac31d22d    Not sure what you're asking.  \\n\\n  Content-...   \n",
       "00179.d15992f3e182d401cc37a1b79c251d03   OK, I guess that sysctl.conf is the best way ...   \n",
       "00647.97e77e8264c32c8b05077edc15721ba2  \\n\\n\\n\\nformail did the trick. Thanks to those...   \n",
       "\n",
       "                                        class    id  \n",
       "00171.08c5c55e9c2b4062344655e9ee32b979      1     0  \n",
       "00041.f1b3402799046db3c1f143a911dc085d      1     1  \n",
       "00211.d976c6049e8448e7c407c124b580e0ba      1     2  \n",
       "00459.e71f7a769d6b09c6d75bfbe8711dbbbe      1     3  \n",
       "00489.023c1d77de9365cad956a4c9118aee4b      1     4  \n",
       "...                                       ...   ...  \n",
       "00939.d6d2250a7e855513820bd35e36883d5a      0  5791  \n",
       "00570.a8f739b7a0c060d178c0f6c01152b6aa      0  5792  \n",
       "00549.703d3fc9f56814c467616f8aac31d22d      0  5793  \n",
       "00179.d15992f3e182d401cc37a1b79c251d03      0  5794  \n",
       "00647.97e77e8264c32c8b05077edc15721ba2      0  5795  \n",
       "\n",
       "[5796 rows x 3 columns]"
      ]
     },
     "execution_count": 16,
     "metadata": {},
     "output_type": "execute_result"
    }
   ],
   "source": [
    "x = range(0,len(data.index))\n",
    "data['id'] = x\n",
    "data"
   ]
  },
  {
   "cell_type": "code",
   "execution_count": 17,
   "metadata": {},
   "outputs": [
    {
     "data": {
      "text/html": [
       "<div>\n",
       "<style scoped>\n",
       "    .dataframe tbody tr th:only-of-type {\n",
       "        vertical-align: middle;\n",
       "    }\n",
       "\n",
       "    .dataframe tbody tr th {\n",
       "        vertical-align: top;\n",
       "    }\n",
       "\n",
       "    .dataframe thead th {\n",
       "        text-align: right;\n",
       "    }\n",
       "</style>\n",
       "<table border=\"1\" class=\"dataframe\">\n",
       "  <thead>\n",
       "    <tr style=\"text-align: right;\">\n",
       "      <th></th>\n",
       "      <th>Mail_body</th>\n",
       "      <th>class</th>\n",
       "      <th>File_Name</th>\n",
       "    </tr>\n",
       "    <tr>\n",
       "      <th>id</th>\n",
       "      <th></th>\n",
       "      <th></th>\n",
       "      <th></th>\n",
       "    </tr>\n",
       "  </thead>\n",
       "  <tbody>\n",
       "    <tr>\n",
       "      <th>0</th>\n",
       "      <td>Lowest rates available for term life insurance...</td>\n",
       "      <td>1</td>\n",
       "      <td>00171.08c5c55e9c2b4062344655e9ee32b979</td>\n",
       "    </tr>\n",
       "    <tr>\n",
       "      <th>1</th>\n",
       "      <td>Dear Sir or Madam:\\n\\n\\n\\nPlease reply to \\n\\n...</td>\n",
       "      <td>1</td>\n",
       "      <td>00041.f1b3402799046db3c1f143a911dc085d</td>\n",
       "    </tr>\n",
       "    <tr>\n",
       "      <th>2</th>\n",
       "      <td>&lt;html&gt;\\n\\n\\n\\n&lt;head&gt;\\n\\n&lt;meta http-equiv=3D\"Co...</td>\n",
       "      <td>1</td>\n",
       "      <td>00211.d976c6049e8448e7c407c124b580e0ba</td>\n",
       "    </tr>\n",
       "    <tr>\n",
       "      <th>3</th>\n",
       "      <td>Help wanted.  We are a 14 year old fortune 500...</td>\n",
       "      <td>1</td>\n",
       "      <td>00459.e71f7a769d6b09c6d75bfbe8711dbbbe</td>\n",
       "    </tr>\n",
       "    <tr>\n",
       "      <th>4</th>\n",
       "      <td>UNCOMMON EXOTIC PLEASURE BOTANICALS!\\n\\n\\n\\nFe...</td>\n",
       "      <td>1</td>\n",
       "      <td>00489.023c1d77de9365cad956a4c9118aee4b</td>\n",
       "    </tr>\n",
       "    <tr>\n",
       "      <th>...</th>\n",
       "      <td>...</td>\n",
       "      <td>...</td>\n",
       "      <td>...</td>\n",
       "    </tr>\n",
       "    <tr>\n",
       "      <th>5791</th>\n",
       "      <td>Okay, I'll ammend that to LIVE OLD tree saving...</td>\n",
       "      <td>0</td>\n",
       "      <td>00939.d6d2250a7e855513820bd35e36883d5a</td>\n",
       "    </tr>\n",
       "    <tr>\n",
       "      <th>5792</th>\n",
       "      <td>This is a semi-followup on my previous questio...</td>\n",
       "      <td>0</td>\n",
       "      <td>00570.a8f739b7a0c060d178c0f6c01152b6aa</td>\n",
       "    </tr>\n",
       "    <tr>\n",
       "      <th>5793</th>\n",
       "      <td>Not sure what you're asking.  \\n\\n  Content-...</td>\n",
       "      <td>0</td>\n",
       "      <td>00549.703d3fc9f56814c467616f8aac31d22d</td>\n",
       "    </tr>\n",
       "    <tr>\n",
       "      <th>5794</th>\n",
       "      <td>OK, I guess that sysctl.conf is the best way ...</td>\n",
       "      <td>0</td>\n",
       "      <td>00179.d15992f3e182d401cc37a1b79c251d03</td>\n",
       "    </tr>\n",
       "    <tr>\n",
       "      <th>5795</th>\n",
       "      <td>\\n\\n\\n\\nformail did the trick. Thanks to those...</td>\n",
       "      <td>0</td>\n",
       "      <td>00647.97e77e8264c32c8b05077edc15721ba2</td>\n",
       "    </tr>\n",
       "  </tbody>\n",
       "</table>\n",
       "<p>5796 rows × 3 columns</p>\n",
       "</div>"
      ],
      "text/plain": [
       "                                              Mail_body  class  \\\n",
       "id                                                               \n",
       "0     Lowest rates available for term life insurance...      1   \n",
       "1     Dear Sir or Madam:\\n\\n\\n\\nPlease reply to \\n\\n...      1   \n",
       "2     <html>\\n\\n\\n\\n<head>\\n\\n<meta http-equiv=3D\"Co...      1   \n",
       "3     Help wanted.  We are a 14 year old fortune 500...      1   \n",
       "4     UNCOMMON EXOTIC PLEASURE BOTANICALS!\\n\\n\\n\\nFe...      1   \n",
       "...                                                 ...    ...   \n",
       "5791  Okay, I'll ammend that to LIVE OLD tree saving...      0   \n",
       "5792  This is a semi-followup on my previous questio...      0   \n",
       "5793    Not sure what you're asking.  \\n\\n  Content-...      0   \n",
       "5794   OK, I guess that sysctl.conf is the best way ...      0   \n",
       "5795  \\n\\n\\n\\nformail did the trick. Thanks to those...      0   \n",
       "\n",
       "                                   File_Name  \n",
       "id                                            \n",
       "0     00171.08c5c55e9c2b4062344655e9ee32b979  \n",
       "1     00041.f1b3402799046db3c1f143a911dc085d  \n",
       "2     00211.d976c6049e8448e7c407c124b580e0ba  \n",
       "3     00459.e71f7a769d6b09c6d75bfbe8711dbbbe  \n",
       "4     00489.023c1d77de9365cad956a4c9118aee4b  \n",
       "...                                      ...  \n",
       "5791  00939.d6d2250a7e855513820bd35e36883d5a  \n",
       "5792  00570.a8f739b7a0c060d178c0f6c01152b6aa  \n",
       "5793  00549.703d3fc9f56814c467616f8aac31d22d  \n",
       "5794  00179.d15992f3e182d401cc37a1b79c251d03  \n",
       "5795  00647.97e77e8264c32c8b05077edc15721ba2  \n",
       "\n",
       "[5796 rows x 3 columns]"
      ]
     },
     "execution_count": 17,
     "metadata": {},
     "output_type": "execute_result"
    }
   ],
   "source": [
    "data['File_Name'] = data.index\n",
    "data.set_index('id',inplace = True)\n",
    "data"
   ]
  },
  {
   "cell_type": "code",
   "execution_count": 18,
   "metadata": {},
   "outputs": [],
   "source": [
    "# saving my data to a file\n",
    "data.to_json(processed_data)"
   ]
  },
  {
   "cell_type": "markdown",
   "metadata": {},
   "source": [
    "# Data Visualization"
   ]
  },
  {
   "cell_type": "code",
   "execution_count": 19,
   "metadata": {},
   "outputs": [
    {
     "data": {
      "text/plain": [
       "0    3900\n",
       "1    1896\n",
       "Name: class, dtype: int64"
      ]
     },
     "execution_count": 19,
     "metadata": {},
     "output_type": "execute_result"
    }
   ],
   "source": [
    "data['class'].value_counts()"
   ]
  },
  {
   "cell_type": "code",
   "execution_count": 20,
   "metadata": {},
   "outputs": [],
   "source": [
    "spam_count = data['class'].value_counts()[1]\n",
    "ham_count = data['class'].value_counts()[0]"
   ]
  },
  {
   "cell_type": "code",
   "execution_count": 21,
   "metadata": {},
   "outputs": [
    {
     "data": {
      "image/png": "[encoded data removed]",
      "text/plain": [
       "<Figure size 450x450 with 1 Axes>"
      ]
     },
     "metadata": {},
     "output_type": "display_data"
    }
   ],
   "source": [
    "cat_names = ['spam','ham']\n",
    "plt.figure(figsize=(3,3),dpi=150)\n",
    "plt.pie([spam_count,ham_count],labels=cat_names,textprops={'fontsize' : 14},\n",
    "        startangle=90,autopct=\"%1.1f%%\", colors=['#636e72','#b2bec3'],explode=[0.03,0.03])\n",
    "plt.show()"
   ]
  },
  {
   "cell_type": "markdown",
   "metadata": {},
   "source": [
    "# Data Preprocessing"
   ]
  },
  {
   "cell_type": "markdown",
   "metadata": {},
   "source": [
    "### Downloading nltk resources"
   ]
  },
  {
   "cell_type": "code",
   "execution_count": 25,
   "metadata": {},
   "outputs": [
    {
     "name": "stderr",
     "output_type": "stream",
     "text": [
      "[nltk_data] Downloading package punkt to /home/sanchit/nltk_data...\n",
      "[nltk_data]   Unzipping tokenizers/punkt.zip.\n"
     ]
    },
    {
     "data": {
      "text/plain": [
       "True"
      ]
     },
     "execution_count": 25,
     "metadata": {},
     "output_type": "execute_result"
    }
   ],
   "source": [
    "#downloading word tokenizer\n",
    "nltk.download('punkt')"
   ]
  },
  {
   "cell_type": "code",
   "execution_count": 26,
   "metadata": {},
   "outputs": [
    {
     "name": "stderr",
     "output_type": "stream",
     "text": [
      "[nltk_data] Downloading package stopwords to\n",
      "[nltk_data]     /home/sanchit/nltk_data...\n",
      "[nltk_data]   Unzipping corpora/stopwords.zip.\n"
     ]
    },
    {
     "data": {
      "text/plain": [
       "True"
      ]
     },
     "execution_count": 26,
     "metadata": {},
     "output_type": "execute_result"
    }
   ],
   "source": [
    "nltk.download('stopwords')"
   ]
  },
  {
   "cell_type": "code",
   "execution_count": 45,
   "metadata": {},
   "outputs": [
    {
     "data": {
      "text/plain": [
       "'<html>\\n\\n\\n\\n<head>\\n\\n<meta http-equiv=3D\"Content-Type\"\\n\\ncontent=3D\"text/html; charset=3Diso-8859-1\">\\n\\n<meta name=3D\"GENERATOR\" content=3D\"Microsoft FrontPage 5.0\">\\n\\n<title></title>\\n\\n</head>\\n\\n\\n\\n<body bgcolor=3D\"#FFFFFF\">\\n\\n<div align=3D\"center\"><center>\\n\\n\\n\\n<table border=3D\"0\" cellpadding=3D\"5\" width=3D\"90%\">\\n\\n    <tr>\\n\\n        <td width=3D\"100%\"><hr>\\n\\n        <p align=3D\"center\"><font color=3D\"#FF0000\" size=3D\"5\"\\n\\n        face=3D\"Arial\"><strong>EBAY AUCTION NEWS</strong><br>\\n\\n        </font><font color=3D\"#0000FF\" face=3D\"Arial\"><strong>**\\n\\n        Recommended Resource - Special Edition **</strong><br>\\n\\n        </font><font face=3D\"Arial\"><strong>Monday, August 26th, 2002</str=\\n\\nong></font></p>\\n\\n        <hr>\\n\\n        <h3 align=3D\"center\"><font color=3D\"#FF0000\" face=3D\"Arial\">Multip=\\n\\nle\\n\\n        Streams of revenue using eBay and Internet: </font></h3>\\n\\n        <p align=3D\"center\"><font color=3D\"#0000FF\" size=3D\"4\"\\n\\n        face=3D\"Arial\"><strong>FREE Auction Profits Toolkit and\\n\\n        FREE training class</strong><br>\\n\\n        </font><font face=3D\"Arial\">(For the first 200 respondents)</font>=\\n\\n</p>\\n\\n        <p align=3D\"center\"><font face=3D\"Arial\"><strong>You have\\n\\n        been selected to participate in this </strong></font><font\\n\\n        color=3D\"#FF0000\" face=3D\"Arial\"><strong>FREE</strong></font><font\\n\\n        face=3D\"Arial\"><strong> offer. <br>\\n\\n        </strong><br>\\n\\n        This eBay and Internet e-course, live web training\\n\\n        conference, and Auction Profit Toolkit could easily sell\\n\\n        for $297 - but it\\'s yours absolutely <strong>FREE</strong>!\\n\\n        <br>\\n\\n        <br>\\n\\n        This special <strong>FREE</strong> offer has been brought\\n\\n        to you by your friends at eBay Auction News. Craig Meyer\\n\\n        (The Auction Man) has agreed to provide you a <strong>free\\n\\n        &quot;live&quot; training class</strong> that you won\\'t\\n\\n        want to miss.<br>\\n\\n        <br>\\n\\n        You might say &quot;Craig Meyer - the Auction Man?&quot;\\n\\n        That\\'s because most of you remember Craig as the real estate\\n\\n        guru who in 1997 helped over 2,000 families buy their own\\n\\n        homes using little or none of their own money. Craig was\\n\\n        featured on television programs throughout the country\\n\\n        for this incredible effort. Craig is not one of those get\\n\\n        rich quick gurus - but a guy who has helped families\\n\\n        realize the American Dream - I will tell you Craig Meyer\\n\\n        is the real deal! <br>\\n\\n        <br>\\n\\n        Craig and his staff have\\n\\n        invested hundreds of thousands of dollars and thousands\\n\\n        of hours testing, testing and more testing - Craig has\\n\\n        developed an incredible system for making Big Money using\\n\\n        eBay and the Internet This system will be revealed to you\\n\\n        in - Craig\\'s brand new live Online Conference - Craig is\\n\\n        providing a limited number of eBay Auction News subscribers\\n\\n        the opportunity to attend this conference for <strong>FREE</strong=\\n\\n>!\\n\\n        <br>\\n\\n        <br>\\n\\n        <b>Register for the class:\\n\\n        <a href=3D\"http://64.251.23.141/marketing/auction/index.html\">CLIC=\\n\\nK HERE</a> <br>\\n\\n        <br>\\n\\n        </b>#1 Free &quot;live&quot; Online training class -\\n\\n        Craig Meyer\\'s Multiple Streams of revenue using eBay and\\n\\n        the Internet! <br>\\n\\n        <br>\\n\\n        </font></p>\\n\\n        <div align=3D\"center\"><center><table border=3D\"1\"\\n\\n        cellpadding=3D\"5\" cellspacing=3D\"0\" width=3D\"90%\"\\n\\n        bgcolor=3D\"#E9E9E9\" bordercolor=3D\"#0000FF\">\\n\\n            <tr>\\n\\n                <td align=3D\"center\" width=3D\"100%\" bgcolor=3D\"#0000FF\"><f=\\n\\nont\\n\\n                color=3D\"#FFFFFF\" size=3D\"4\" face=3D\"Arial\"><strong>Sessio=\\n\\nns\\n\\n                Start: </strong></font></td>\\n\\n            </tr>\\n\\n            <tr>\\n\\n                <td align=3D\"center\" width=3D\"100%\">\\n\\n                <table cellSpacing=3D\"0\" cellPadding=3D\"0\" border=3D\"0\">\\n\\n                  <tr>\\n\\n                    <td>&nbsp;</td>\\n\\n                    <td><b><font size=3D\"4\">8/28/2002 - 5:00pm PST - 6:30p=\\n\\nm PST</font></b></td>\\n\\n                  </tr>\\n\\n                  <tr>\\n\\n                    <td>&nbsp;</td>\\n\\n                    <td><b><font size=3D\"4\">9/02/2002 - 9:00am PST - 10:30=\\n\\nam PST</font></b></td>\\n\\n                  </tr>\\n\\n                  <tr>\\n\\n                    <td>&nbsp;</td>\\n\\n                    <td><b><font size=3D\"4\">9/03/2002 - 5:00pm PST - 6:30p=\\n\\nm PST</font></b></td>\\n\\n                  </tr>\\n\\n                  <tr>\\n\\n                    <td>&nbsp;</td>\\n\\n                    <td><b><font size=3D\"4\">9/05/2002 - 9:00am PST - 10:30=\\n\\nam PST</font></b></td>\\n\\n                  </tr>\\n\\n                  <tr>\\n\\n                    <td>&nbsp;</td>\\n\\n                    <td><b><font size=3D\"4\">9/09/2002 - 9:00am PST - 10:30=\\n\\nam PST</font></b></td>\\n\\n                  </tr>\\n\\n                  <tr>\\n\\n                    <td>&nbsp;</td>\\n\\n                    <td><b><font size=3D\"4\">9/10/2002 - 5:00pm PST - 6:30p=\\n\\nm PST</font></b></td>\\n\\n                  </tr>\\n\\n                  <tr>\\n\\n                    <td>&nbsp;</td>\\n\\n                    <td><b><font size=3D\"4\">Pre-recorded Class (anytime)</=\\n\\nfont></b></td>\\n\\n                  </tr>\\n\\n                </table>\\n\\n                </td>\\n\\n            </tr>\\n\\n        </table>\\n\\n        </center></div><p align=3D\"left\"><font face=3D\"Arial\">This is\\n\\n        the live online training class that Started it all ... <strong>Thi=\\n\\ns\\n\\n        class can help YOU learn how to Create Multiple Streams\\n\\n        of eBay and internet revenue for LIFE!</strong> This\\n\\n        course is personally taught online by Craig Meyer\\n\\n        HIMSELF! PLUS, when you attend, you will get: <br>\\n\\n        <br>\\n\\n        </font><font color=3D\"#0000FF\" face=3D\"Arial\"><b>The Entire\\n\\n        Auction Profits Toolkit absolutely FREE! </b></font><font\\n\\n        color=3D\"#FF0000\" face=3D\"Arial\"><b>A $297 Value!</b></font><font\\n\\n        face=3D\"Arial\"> <br>\\n\\n        <br>\\n\\n        Just think about it ... you will have personal and\\n\\n        individual training! Craig will be teaching you all of\\n\\n        his proven, successful, and profitable wealth secrets -\\n\\n        LIVE, interactive, intense and jam packed with\\n\\n        information! <br>\\n\\n        <br>\\n\\n        Plus - During Craig\\'s live online class he will reveal\\n\\n        the secret to making $12,000 in the next 30 days - No\\n\\n        Hype, I promise this is the real deal - you don\\'t want to\\n\\n        miss this conference so respond right now! <br>\\n\\n        <br>\\n\\n        <strong>Are you interested in Financial Freedom? <br>\\n\\n        Are you interested in having Multiple Streams of Income? <br>\\n\\n        Are you willing to work with Craig personally to achieve\\n\\n        these goals? <br>\\n\\n        Are you ready to the Auction Profit Toolkit and training class <st=\\n\\nrong>FREE? </strong><br>\\n\\n        <br>\\n\\n        </strong>\\n\\n        </font>\\n\\n        <strong><font color=3D\"#0000FF\" face=3D\"Arial\"><strong>If SO,\\n\\n        Just go to the registration page: </strong>\\n\\n        <a href=3D\"http://64.251.23.141/marketing/auction/index.html\">CLIC=\\n\\nK HERE\\n\\n        </a><br>\\n\\n        </font><font face=3D\"Arial\"><br>\\n\\n        Get registered now! You\\'ll receive a confirmation email\\n\\n        immediately after you register. <br>\\n\\n        <strong>KEEP THE CONFIRMATION EMAIL HANDY!</strong> It\\n\\n        contains all the codes and access numbers to view the\\n\\n        program on your PC and get on the call! <br>\\n\\n        <br>\\n\\n        This conference will be sold out - actually since the\\n\\n        entire program is free It will simply fill up - once it\\n\\n        is full - it\\'s full - to guarantee your participation\\n\\n        register right now! <br>\\n\\n        </font></p>\\n\\n        <h3><font color=3D\"#FF0000\" face=3D\"Arial\">HERE IS HOW YOU\\n\\n        REGISTER &amp; LOCK IN YOUR POSITION:</font></h3>\\n\\n        <p><font color=3D\"#0000FF\" face=3D\"Arial\"><strong>You have to\\n\\n        go to this website: </strong></font>\\n\\n        <a href=3D\"http://64.251.23.141/marketing/auction/index.html\"><fon=\\n\\nt\\n\\n        color=3D\"#0000FF\" face=3D\"Arial\">CLICK HERE</font><font\\n\\n        face=3D\"Arial\"> </font></a><font face=3D\"Arial\"><br>\\n\\n        <br>\\n\\n        <strong>Be sure to do it </strong></font><font\\n\\n        color=3D\"#FF0000\" face=3D\"Arial\"><strong>NOW</strong></font><font\\n\\n        face=3D\"Arial\"><strong> - the web conference and auction profits c=\\n\\nourse are going to go QUICKLY ... and I don\\'t want\\n\\n        you to miss out! </strong><br>\\n\\n        <br>\\n\\n        Sincerely, <br>\\n\\n        <br>\\n\\n        Taylor Brooks <br>\\n\\n        eBay Auction News<br>\\n\\n        </font></p>\\n\\n        <hr>\\n\\n        <p><font\\n\\n        face=3D\"Arial\">To be removed,\\n\\n        <a href=3D\"http://64.251.23.141/affiliates/removeme.html\">CLICK HE=\\n\\nRE</a></font></p>\\n\\n        </td>\\n\\n    </tr>\\n\\n</table>\\n\\n</center></div>\\n\\n</body>\\n\\n</html>\\n\\n\\n\\n\\n\\n\\n\\n\\n'"
      ]
     },
     "execution_count": 45,
     "metadata": {},
     "output_type": "execute_result"
    }
   ],
   "source": [
    "# Sample data which includes html\n",
    "data.at[2,'Mail_body']"
   ]
  },
  {
   "cell_type": "code",
   "execution_count": 49,
   "metadata": {},
   "outputs": [
    {
     "name": "stdout",
     "output_type": "stream",
     "text": [
      "<html>\n",
      " <head>\n",
      "  <meta charset=\"utf-8\" content='3D\"text/html;' http-equiv='3D\"Content-Type\"'/>\n",
      "  <meta 5.0\"=\"\" content='3D\"Microsoft' frontpage=\"\" name='3D\"GENERATOR\"'/>\n",
      "  <title>\n",
      "  </title>\n",
      " </head>\n",
      " <body bgcolor='3D\"#FFFFFF\"'>\n",
      "  <div align='3D\"center\"'>\n",
      "   <center>\n",
      "    <table border='3D\"0\"' cellpadding='3D\"5\"' width='3D\"90%\"'>\n",
      "     <tr>\n",
      "      <td width='3D\"100%\"'>\n",
      "       <hr/>\n",
      "       <p align='3D\"center\"'>\n",
      "        <font color='3D\"#FF0000\"' face='3D\"Arial\"' size='3D\"5\"'>\n",
      "         <strong>\n",
      "          EBAY AUCTION NEWS\n",
      "         </strong>\n",
      "         <br/>\n",
      "        </font>\n",
      "        <font color='3D\"#0000FF\"' face='3D\"Arial\"'>\n",
      "         <strong>\n",
      "          **\n",
      "\n",
      "        Recommended Resource - Special Edition **\n",
      "         </strong>\n",
      "         <br/>\n",
      "        </font>\n",
      "        <font face='3D\"Arial\"'>\n",
      "         <strong>\n",
      "          Monday, August 26th, 2002\n",
      "         </strong>\n",
      "        </font>\n",
      "       </p>\n",
      "      </td>\n",
      "     </tr>\n",
      "    </table>\n",
      "   </center>\n",
      "  </div>\n",
      " </body>\n",
      "</html>\n",
      "<hr/>\n",
      "<h3 align='3D\"center\"'>\n",
      " <font color='3D\"#FF0000\"' face='3D\"Arial\"'>\n",
      "  Multip=\n",
      "\n",
      "le\n",
      "\n",
      "        Streams of revenue using eBay and Internet:\n",
      " </font>\n",
      "</h3>\n",
      "<p align='3D\"center\"'>\n",
      " <font color='3D\"#0000FF\"' face='3D\"Arial\"' size='3D\"4\"'>\n",
      "  <strong>\n",
      "   FREE Auction Profits Toolkit and\n",
      "\n",
      "        FREE training class\n",
      "  </strong>\n",
      "  <br/>\n",
      " </font>\n",
      " <font face='3D\"Arial\"'>\n",
      "  (For the first 200 respondents)\n",
      " </font>\n",
      " =\n",
      "</p>\n",
      "<p align='3D\"center\"'>\n",
      " <font face='3D\"Arial\"'>\n",
      "  <strong>\n",
      "   You have\n",
      "\n",
      "        been selected to participate in this\n",
      "  </strong>\n",
      " </font>\n",
      " <font color='3D\"#FF0000\"' face='3D\"Arial\"'>\n",
      "  <strong>\n",
      "   FREE\n",
      "  </strong>\n",
      " </font>\n",
      " <font face='3D\"Arial\"'>\n",
      "  <strong>\n",
      "   offer.\n",
      "   <br/>\n",
      "  </strong>\n",
      "  <br/>\n",
      "  This eBay and Internet e-course, live web training\n",
      "\n",
      "        conference, and Auction Profit Toolkit could easily sell\n",
      "\n",
      "        for $297 - but it's yours absolutely\n",
      "  <strong>\n",
      "   FREE\n",
      "  </strong>\n",
      "  !\n",
      "  <br/>\n",
      "  <br/>\n",
      "  This special\n",
      "  <strong>\n",
      "   FREE\n",
      "  </strong>\n",
      "  offer has been brought\n",
      "\n",
      "        to you by your friends at eBay Auction News. Craig Meyer\n",
      "\n",
      "        (The Auction Man) has agreed to provide you a\n",
      "  <strong>\n",
      "   free\n",
      "\n",
      "        \"live\" training class\n",
      "  </strong>\n",
      "  that you won't\n",
      "\n",
      "        want to miss.\n",
      "  <br/>\n",
      "  <br/>\n",
      "  You might say \"Craig Meyer - the Auction Man?\"\n",
      "\n",
      "        That's because most of you remember Craig as the real estate\n",
      "\n",
      "        guru who in 1997 helped over 2,000 families buy their own\n",
      "\n",
      "        homes using little or none of their own money. Craig was\n",
      "\n",
      "        featured on television programs throughout the country\n",
      "\n",
      "        for this incredible effort. Craig is not one of those get\n",
      "\n",
      "        rich quick gurus - but a guy who has helped families\n",
      "\n",
      "        realize the American Dream - I will tell you Craig Meyer\n",
      "\n",
      "        is the real deal!\n",
      "  <br/>\n",
      "  <br/>\n",
      "  Craig and his staff have\n",
      "\n",
      "        invested hundreds of thousands of dollars and thousands\n",
      "\n",
      "        of hours testing, testing and more testing - Craig has\n",
      "\n",
      "        developed an incredible system for making Big Money using\n",
      "\n",
      "        eBay and the Internet This system will be revealed to you\n",
      "\n",
      "        in - Craig's brand new live Online Conference - Craig is\n",
      "\n",
      "        providing a limited number of eBay Auction News subscribers\n",
      "\n",
      "        the opportunity to attend this conference for\n",
      "  <strong>\n",
      "   FREE\n",
      "  </strong>\n",
      " </font>\n",
      "</p>\n",
      "!\n",
      "<br/>\n",
      "<br/>\n",
      "<b>\n",
      " Register for the class:\n",
      " <a href='3D\"http://64.251.23.141/marketing/auction/index.html\"'>\n",
      "  CLIC=\n",
      "\n",
      "K HERE\n",
      " </a>\n",
      " <br/>\n",
      " <br/>\n",
      "</b>\n",
      "#1 Free \"live\" Online training class -\n",
      "\n",
      "        Craig Meyer's Multiple Streams of revenue using eBay and\n",
      "\n",
      "        the Internet!\n",
      "<br/>\n",
      "<br/>\n",
      "<div align='3D\"center\"'>\n",
      " <center>\n",
      "  <table bgcolor='3D\"#E9E9E9\"' border='3D\"1\"' bordercolor='3D\"#0000FF\"' cellpadding='3D\"5\"' cellspacing='3D\"0\"' width='3D\"90%\"'>\n",
      "   <tr>\n",
      "    <td align='3D\"center\"' bgcolor='3D\"#0000FF\"' width='3D\"100%\"'>\n",
      "     <f= color='3D\"#FFFFFF\"' face='3D\"Arial\"' ont=\"\" size='3D\"4\"'>\n",
      "      <strong>\n",
      "       Sessio=\n",
      "\n",
      "ns\n",
      "\n",
      "                Start:\n",
      "      </strong>\n",
      "     </f=>\n",
      "    </td>\n",
      "   </tr>\n",
      "  </table>\n",
      " </center>\n",
      "</div>\n",
      "<tr>\n",
      " <td align='3D\"center\"' width='3D\"100%\"'>\n",
      "  <table border='3D\"0\"' cellpadding='3D\"0\"' cellspacing='3D\"0\"'>\n",
      "   <tr>\n",
      "    <td>\n",
      "    </td>\n",
      "    <td>\n",
      "     <b>\n",
      "      <font size='3D\"4\"'>\n",
      "       8/28/2002 - 5:00pm PST - 6:30p=\n",
      "\n",
      "m PST\n",
      "      </font>\n",
      "     </b>\n",
      "    </td>\n",
      "   </tr>\n",
      "   <tr>\n",
      "    <td>\n",
      "    </td>\n",
      "    <td>\n",
      "     <b>\n",
      "      <font size='3D\"4\"'>\n",
      "       9/02/2002 - 9:00am PST - 10:30=\n",
      "\n",
      "am PST\n",
      "      </font>\n",
      "     </b>\n",
      "    </td>\n",
      "   </tr>\n",
      "   <tr>\n",
      "    <td>\n",
      "    </td>\n",
      "    <td>\n",
      "     <b>\n",
      "      <font size='3D\"4\"'>\n",
      "       9/03/2002 - 5:00pm PST - 6:30p=\n",
      "\n",
      "m PST\n",
      "      </font>\n",
      "     </b>\n",
      "    </td>\n",
      "   </tr>\n",
      "   <tr>\n",
      "    <td>\n",
      "    </td>\n",
      "    <td>\n",
      "     <b>\n",
      "      <font size='3D\"4\"'>\n",
      "       9/05/2002 - 9:00am PST - 10:30=\n",
      "\n",
      "am PST\n",
      "      </font>\n",
      "     </b>\n",
      "    </td>\n",
      "   </tr>\n",
      "   <tr>\n",
      "    <td>\n",
      "    </td>\n",
      "    <td>\n",
      "     <b>\n",
      "      <font size='3D\"4\"'>\n",
      "       9/09/2002 - 9:00am PST - 10:30=\n",
      "\n",
      "am PST\n",
      "      </font>\n",
      "     </b>\n",
      "    </td>\n",
      "   </tr>\n",
      "   <tr>\n",
      "    <td>\n",
      "    </td>\n",
      "    <td>\n",
      "     <b>\n",
      "      <font size='3D\"4\"'>\n",
      "       9/10/2002 - 5:00pm PST - 6:30p=\n",
      "\n",
      "m PST\n",
      "      </font>\n",
      "     </b>\n",
      "    </td>\n",
      "   </tr>\n",
      "   <tr>\n",
      "    <td>\n",
      "    </td>\n",
      "    <td>\n",
      "     <b>\n",
      "      <font size='3D\"4\"'>\n",
      "       Pre-recorded Class (anytime)\n",
      "       <!--=\n",
      "\n",
      "font-->\n",
      "      </font>\n",
      "     </b>\n",
      "    </td>\n",
      "   </tr>\n",
      "  </table>\n",
      " </td>\n",
      "</tr>\n",
      "<p align='3D\"left\"'>\n",
      " <font face='3D\"Arial\"'>\n",
      "  This is\n",
      "\n",
      "        the live online training class that Started it all ...\n",
      "  <strong>\n",
      "   Thi=\n",
      "\n",
      "s\n",
      "\n",
      "        class can help YOU learn how to Create Multiple Streams\n",
      "\n",
      "        of eBay and internet revenue for LIFE!\n",
      "  </strong>\n",
      "  This\n",
      "\n",
      "        course is personally taught online by Craig Meyer\n",
      "\n",
      "        HIMSELF! PLUS, when you attend, you will get:\n",
      "  <br/>\n",
      "  <br/>\n",
      " </font>\n",
      " <font color='3D\"#0000FF\"' face='3D\"Arial\"'>\n",
      "  <b>\n",
      "   The Entire\n",
      "\n",
      "        Auction Profits Toolkit absolutely FREE!\n",
      "  </b>\n",
      " </font>\n",
      " <font color='3D\"#FF0000\"' face='3D\"Arial\"'>\n",
      "  <b>\n",
      "   A $297 Value!\n",
      "  </b>\n",
      " </font>\n",
      " <font face='3D\"Arial\"'>\n",
      "  <br/>\n",
      "  <br/>\n",
      "  Just think about it ... you will have personal and\n",
      "\n",
      "        individual training! Craig will be teaching you all of\n",
      "\n",
      "        his proven, successful, and profitable wealth secrets -\n",
      "\n",
      "        LIVE, interactive, intense and jam packed with\n",
      "\n",
      "        information!\n",
      "  <br/>\n",
      "  <br/>\n",
      "  Plus - During Craig's live online class he will reveal\n",
      "\n",
      "        the secret to making $12,000 in the next 30 days - No\n",
      "\n",
      "        Hype, I promise this is the real deal - you don't want to\n",
      "\n",
      "        miss this conference so respond right now!\n",
      "  <br/>\n",
      "  <br/>\n",
      "  <strong>\n",
      "   Are you interested in Financial Freedom?\n",
      "   <br/>\n",
      "   Are you interested in having Multiple Streams of Income?\n",
      "   <br/>\n",
      "   Are you willing to work with Craig personally to achieve\n",
      "\n",
      "        these goals?\n",
      "   <br/>\n",
      "   Are you ready to the Auction Profit Toolkit and training class\n",
      "   <st= rong=\"\">\n",
      "    FREE?\n",
      "   </st=>\n",
      "  </strong>\n",
      "  <br/>\n",
      "  <br/>\n",
      " </font>\n",
      "</p>\n",
      "<strong>\n",
      " <font color='3D\"#0000FF\"' face='3D\"Arial\"'>\n",
      "  <strong>\n",
      "   If SO,\n",
      "\n",
      "        Just go to the registration page:\n",
      "  </strong>\n",
      "  <a href='3D\"http://64.251.23.141/marketing/auction/index.html\"'>\n",
      "   CLIC=\n",
      "\n",
      "K HERE\n",
      "  </a>\n",
      "  <br/>\n",
      " </font>\n",
      " <font face='3D\"Arial\"'>\n",
      "  <br/>\n",
      "  Get registered now! You'll receive a confirmation email\n",
      "\n",
      "        immediately after you register.\n",
      "  <br/>\n",
      "  <strong>\n",
      "   KEEP THE CONFIRMATION EMAIL HANDY!\n",
      "  </strong>\n",
      "  It\n",
      "\n",
      "        contains all the codes and access numbers to view the\n",
      "\n",
      "        program on your PC and get on the call!\n",
      "  <br/>\n",
      "  <br/>\n",
      "  This conference will be sold out - actually since the\n",
      "\n",
      "        entire program is free It will simply fill up - once it\n",
      "\n",
      "        is full - it's full - to guarantee your participation\n",
      "\n",
      "        register right now!\n",
      "  <br/>\n",
      " </font>\n",
      "</strong>\n",
      "<h3>\n",
      " <font color='3D\"#FF0000\"' face='3D\"Arial\"'>\n",
      "  HERE IS HOW YOU\n",
      "\n",
      "        REGISTER &amp; LOCK IN YOUR POSITION:\n",
      " </font>\n",
      "</h3>\n",
      "<p>\n",
      " <font color='3D\"#0000FF\"' face='3D\"Arial\"'>\n",
      "  <strong>\n",
      "   You have to\n",
      "\n",
      "        go to this website:\n",
      "  </strong>\n",
      " </font>\n",
      " <a href='3D\"http://64.251.23.141/marketing/auction/index.html\"'>\n",
      "  <fon= color='3D\"#0000FF\"' face='3D\"Arial\"' t=\"\">\n",
      "   CLICK HERE\n",
      "  </fon=>\n",
      " </a>\n",
      "</p>\n",
      "<font face='3D\"Arial\"'>\n",
      "</font>\n",
      "<font face='3D\"Arial\"'>\n",
      " <br/>\n",
      " <br/>\n",
      " <strong>\n",
      "  Be sure to do it\n",
      " </strong>\n",
      "</font>\n",
      "<font color='3D\"#FF0000\"' face='3D\"Arial\"'>\n",
      " <strong>\n",
      "  NOW\n",
      " </strong>\n",
      "</font>\n",
      "<font face='3D\"Arial\"'>\n",
      " <strong>\n",
      "  - the web conference and auction profits c=\n",
      "\n",
      "ourse are going to go QUICKLY ... and I don't want\n",
      "\n",
      "        you to miss out!\n",
      " </strong>\n",
      " <br/>\n",
      " <br/>\n",
      " Sincerely,\n",
      " <br/>\n",
      " <br/>\n",
      " Taylor Brooks\n",
      " <br/>\n",
      " eBay Auction News\n",
      " <br/>\n",
      "</font>\n",
      "<hr/>\n",
      "<p>\n",
      " <font face='3D\"Arial\"'>\n",
      "  To be removed,\n",
      "  <a href='3D\"http://64.251.23.141/affiliates/removeme.html\"'>\n",
      "   CLICK HE=\n",
      "\n",
      "RE\n",
      "  </a>\n",
      " </font>\n",
      "</p>\n",
      "\n"
     ]
    }
   ],
   "source": [
    "soup = BeautifulSoup(data.at[2,'Mail_body'],'html.parser')\n",
    "print(soup.prettify())"
   ]
  },
  {
   "cell_type": "code",
   "execution_count": 50,
   "metadata": {},
   "outputs": [
    {
     "data": {
      "text/plain": [
       "'\\n\\n\\n\\n\\n\\n\\n\\n\\n\\n\\nEBAY AUCTION NEWS\\n**\\n\\n        Recommended Resource - Special Edition **\\nMonday, August 26th, 2002\\n\\nMultip=\\n\\nle\\n\\n        Streams of revenue using eBay and Internet: \\nFREE Auction Profits Toolkit and\\n\\n        FREE training class\\n(For the first 200 respondents)=\\n\\n\\nYou have\\n\\n        been selected to participate in this FREE offer. \\n\\n\\n        This eBay and Internet e-course, live web training\\n\\n        conference, and Auction Profit Toolkit could easily sell\\n\\n        for $297 - but it\\'s yours absolutely FREE!\\n\\n        \\n\\n\\n        This special FREE offer has been brought\\n\\n        to you by your friends at eBay Auction News. Craig Meyer\\n\\n        (The Auction Man) has agreed to provide you a free\\n\\n        \"live\" training class that you won\\'t\\n\\n        want to miss.\\n\\n\\n        You might say \"Craig Meyer - the Auction Man?\"\\n\\n        That\\'s because most of you remember Craig as the real estate\\n\\n        guru who in 1997 helped over 2,000 families buy their own\\n\\n        homes using little or none of their own money. Craig was\\n\\n        featured on television programs throughout the country\\n\\n        for this incredible effort. Craig is not one of those get\\n\\n        rich quick gurus - but a guy who has helped families\\n\\n        realize the American Dream - I will tell you Craig Meyer\\n\\n        is the real deal! \\n\\n\\n        Craig and his staff have\\n\\n        invested hundreds of thousands of dollars and thousands\\n\\n        of hours testing, testing and more testing - Craig has\\n\\n        developed an incredible system for making Big Money using\\n\\n        eBay and the Internet This system will be revealed to you\\n\\n        in - Craig\\'s brand new live Online Conference - Craig is\\n\\n        providing a limited number of eBay Auction News subscribers\\n\\n        the opportunity to attend this conference for FREE!\\n\\n        \\n\\nRegister for the class:\\n\\n        CLIC=\\n\\nK HERE \\n\\n#1 Free \"live\" Online training class -\\n\\n        Craig Meyer\\'s Multiple Streams of revenue using eBay and\\n\\n        the Internet! \\n\\n\\n\\n\\nSessio=\\n\\nns\\n\\n                Start: \\n\\n\\n\\n\\n\\n\\xa0\\n8/28/2002 - 5:00pm PST - 6:30p=\\n\\nm PST\\n\\n\\n\\xa0\\n9/02/2002 - 9:00am PST - 10:30=\\n\\nam PST\\n\\n\\n\\xa0\\n9/03/2002 - 5:00pm PST - 6:30p=\\n\\nm PST\\n\\n\\n\\xa0\\n9/05/2002 - 9:00am PST - 10:30=\\n\\nam PST\\n\\n\\n\\xa0\\n9/09/2002 - 9:00am PST - 10:30=\\n\\nam PST\\n\\n\\n\\xa0\\n9/10/2002 - 5:00pm PST - 6:30p=\\n\\nm PST\\n\\n\\n\\xa0\\nPre-recorded Class (anytime)\\n\\n\\n\\n\\n\\nThis is\\n\\n        the live online training class that Started it all ... Thi=\\n\\ns\\n\\n        class can help YOU learn how to Create Multiple Streams\\n\\n        of eBay and internet revenue for LIFE! This\\n\\n        course is personally taught online by Craig Meyer\\n\\n        HIMSELF! PLUS, when you attend, you will get: \\n\\nThe Entire\\n\\n        Auction Profits Toolkit absolutely FREE! A $297 Value! \\n\\n\\n        Just think about it ... you will have personal and\\n\\n        individual training! Craig will be teaching you all of\\n\\n        his proven, successful, and profitable wealth secrets -\\n\\n        LIVE, interactive, intense and jam packed with\\n\\n        information! \\n\\n\\n        Plus - During Craig\\'s live online class he will reveal\\n\\n        the secret to making $12,000 in the next 30 days - No\\n\\n        Hype, I promise this is the real deal - you don\\'t want to\\n\\n        miss this conference so respond right now! \\n\\nAre you interested in Financial Freedom? \\n\\n        Are you interested in having Multiple Streams of Income? \\n\\n        Are you willing to work with Craig personally to achieve\\n\\n        these goals? \\n\\n        Are you ready to the Auction Profit Toolkit and training class FREE? \\n\\n\\n\\nIf SO,\\n\\n        Just go to the registration page: \\nCLIC=\\n\\nK HERE\\n\\n        \\n\\n\\n        Get registered now! You\\'ll receive a confirmation email\\n\\n        immediately after you register. \\nKEEP THE CONFIRMATION EMAIL HANDY! It\\n\\n        contains all the codes and access numbers to view the\\n\\n        program on your PC and get on the call! \\n\\n\\n        This conference will be sold out - actually since the\\n\\n        entire program is free It will simply fill up - once it\\n\\n        is full - it\\'s full - to guarantee your participation\\n\\n        register right now! \\n\\nHERE IS HOW YOU\\n\\n        REGISTER & LOCK IN YOUR POSITION:\\nYou have to\\n\\n        go to this website: \\nCLICK HERE \\n\\nBe sure to do it NOW - the web conference and auction profits c=\\n\\nourse are going to go QUICKLY ... and I don\\'t want\\n\\n        you to miss out! \\n\\n\\n        Sincerely, \\n\\n\\n        Taylor Brooks \\n\\n        eBay Auction News\\n\\n\\nTo be removed,\\n\\n        CLICK HE=\\n\\nRE\\n\\n\\n\\n\\n\\n\\n'"
      ]
     },
     "execution_count": 50,
     "metadata": {},
     "output_type": "execute_result"
    }
   ],
   "source": [
    "soup.get_text()"
   ]
  },
  {
   "cell_type": "code",
   "execution_count": 54,
   "metadata": {},
   "outputs": [],
   "source": [
    "def process(message,stemmer = PorterStemmer(),stop_words = stopwords.words('english')):\n",
    "    \"\"\"\n",
    "    This function returns the message after Filtering all the stopwords, removing punctuations, lowers\n",
    "    the strings, stemming the words to the root form and removing the html tags.\n",
    "    \n",
    "    Parameters\n",
    "    ----------\n",
    "    stemmer : Type of stemmer to be used.\n",
    "    stop_words : The set of stopwords.\n",
    "    \"\"\"\n",
    "    filtered_words = []\n",
    "    #Tokenizing and converting to lowercase\n",
    "    soup = BeautifulSoup(message,'html.parser')\n",
    "    message = soup.get_text()\n",
    "    words = word_tokenize(message.lower())\n",
    "    soup = BeautifulSoup(message,'html.parser')\n",
    "    for word in words:\n",
    "        if word not in stop_words:\n",
    "            if word.isalpha():\n",
    "                filtered_words.append(stemmer.stem(word))\n",
    "    return filtered_words"
   ]
  },
  {
   "cell_type": "markdown",
   "metadata": {},
   "source": [
    "# Applying the process function to each and every mail"
   ]
  },
  {
   "cell_type": "code",
   "execution_count": 57,
   "metadata": {},
   "outputs": [
    {
     "name": "stderr",
     "output_type": "stream",
     "text": [
      "/home/sanchit/anaconda3/lib/python3.8/site-packages/bs4/__init__.py:414: MarkupResemblesLocatorWarning: \"http://www.post-gazette.com/columnists/20020905brian5\n",
      "\" looks like a URL. Beautiful Soup is not an HTTP client. You should probably use an HTTP client like requests to get the document behind the URL, and feed that document to Beautiful Soup.\n",
      "  warnings.warn(\n"
     ]
    }
   ],
   "source": [
    "converted_messages = data['Mail_body'].apply(process)"
   ]
  },
  {
   "cell_type": "code",
   "execution_count": 64,
   "metadata": {},
   "outputs": [],
   "source": [
    "doc_ids_spam = data[data['class']==1].index\n",
    "doc_ids_ham = data[data['class']==0].index"
   ]
  },
  {
   "cell_type": "code",
   "execution_count": 65,
   "metadata": {},
   "outputs": [
    {
     "data": {
      "text/plain": [
       "(3900,)"
      ]
     },
     "execution_count": 65,
     "metadata": {},
     "output_type": "execute_result"
    }
   ],
   "source": [
    "converted_ham = converted_messages[doc_ids_ham]\n",
    "converted_ham.shape"
   ]
  },
  {
   "cell_type": "code",
   "execution_count": 66,
   "metadata": {},
   "outputs": [
    {
     "data": {
      "text/plain": [
       "(1896,)"
      ]
     },
     "execution_count": 66,
     "metadata": {},
     "output_type": "execute_result"
    }
   ],
   "source": [
    "converted_spam = converted_messages[doc_ids_spam]\n",
    "converted_spam.shape"
   ]
  },
  {
   "cell_type": "code",
   "execution_count": 70,
   "metadata": {},
   "outputs": [],
   "source": [
    "flat_ham = [j for i in converted_ham for j in i]\n",
    "flat_spam = [j for i in converted_spam for j in i]"
   ]
  },
  {
   "cell_type": "code",
   "execution_count": 71,
   "metadata": {},
   "outputs": [
    {
     "data": {
      "text/plain": [
       "http      7563\n",
       "use       3633\n",
       "list      2880\n",
       "one       2373\n",
       "get       2286\n",
       "mail      2255\n",
       "would     2003\n",
       "like      1931\n",
       "messag    1849\n",
       "work      1800\n",
       "dtype: int64"
      ]
     },
     "execution_count": 71,
     "metadata": {},
     "output_type": "execute_result"
    }
   ],
   "source": [
    "ham_words = pd.Series(flat_ham).value_counts()\n",
    "ham_words[:10]"
   ]
  },
  {
   "cell_type": "code",
   "execution_count": 72,
   "metadata": {},
   "outputs": [
    {
     "data": {
      "text/plain": [
       "http      3097\n",
       "email     3090\n",
       "free      2585\n",
       "click     2058\n",
       "receiv    1989\n",
       "list      1971\n",
       "get       1914\n",
       "pleas     1852\n",
       "busi      1792\n",
       "order     1746\n",
       "dtype: int64"
      ]
     },
     "execution_count": 72,
     "metadata": {},
     "output_type": "execute_result"
    }
   ],
   "source": [
    "spam_words = pd.Series(flat_spam).value_counts()\n",
    "spam_words[0:10]"
   ]
  },
  {
   "cell_type": "code",
   "execution_count": null,
   "metadata": {},
   "outputs": [],
   "source": []
  }
 ],
 "metadata": {
  "kernelspec": {
   "display_name": "Python 3",
   "language": "python",
   "name": "python3"
  },
  "language_info": {
   "codemirror_mode": {
    "name": "ipython",
    "version": 3
   },
   "file_extension": ".py",
   "mimetype": "text/x-python",
   "name": "python",
   "nbconvert_exporter": "python",
   "pygments_lexer": "ipython3",
   "version": "3.8.3"
  }
 },
 "nbformat": 4,
 "nbformat_minor": 4
}
